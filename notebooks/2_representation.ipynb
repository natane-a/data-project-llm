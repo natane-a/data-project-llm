{
  "cells": [
    {
      "cell_type": "code",
      "execution_count": null,
      "metadata": {
        "id": "Yh06UhH2Wsmd"
      },
      "outputs": [],
      "source": [
        "'''\n",
        "Code just for illustrating steps. To run model use summarization_llm.ipynb\n",
        "'''"
      ]
    },
    {
      "cell_type": "code",
      "source": [
        "# filtering noisy samples before selecting subsets\n",
        "def filter_noisy_samples(example):\n",
        "    return len(example[\"document\"].split()) > 50 and len(example[\"summary\"].split()) < 250\n",
        "\n",
        "filtered_train = ds['train'].filter(filter_noisy_samples)\n",
        "filtered_test = ds['test'].filter(filter_noisy_samples)\n",
        "\n",
        "train_subset_size = 10000\n",
        "test_subset_size = 1000\n",
        "\n",
        "# grab a subset of the training and testing datasets\n",
        "train_subset = filtered_train.select(range(min(train_subset_size, len(filtered_train))))\n",
        "test_subset = filtered_test.select(range(min(test_subset_size, len(filtered_test))))"
      ],
      "metadata": {
        "id": "sEH0i9UFWtr1"
      },
      "execution_count": null,
      "outputs": []
    }
  ],
  "metadata": {
    "language_info": {
      "name": "python"
    },
    "orig_nbformat": 4,
    "colab": {
      "provenance": []
    }
  },
  "nbformat": 4,
  "nbformat_minor": 0
}