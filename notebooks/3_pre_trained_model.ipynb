{
  "cells": [
    {
      "cell_type": "code",
      "execution_count": null,
      "metadata": {
        "id": "hivCFn4EW0nx"
      },
      "outputs": [],
      "source": [
        "'''\n",
        "Code just for illustrating steps. To run model use summarization_llm.ipynb\n",
        "'''"
      ]
    },
    {
      "cell_type": "code",
      "source": [
        "from transformers import BartTokenizer\n",
        "tokenizer = BartTokenizer.from_pretrained(\"facebook/bart-large-cnn\")"
      ],
      "metadata": {
        "id": "s8YQxY0_W08y"
      },
      "execution_count": null,
      "outputs": []
    }
  ],
  "metadata": {
    "language_info": {
      "name": "python"
    },
    "orig_nbformat": 4,
    "colab": {
      "provenance": []
    }
  },
  "nbformat": 4,
  "nbformat_minor": 0
}